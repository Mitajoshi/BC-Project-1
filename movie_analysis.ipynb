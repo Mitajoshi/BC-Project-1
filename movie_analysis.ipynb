{
 "cells": [
  {
   "cell_type": "code",
   "execution_count": null,
   "id": "0b65683d",
   "metadata": {},
   "outputs": [],
   "source": [
    "# Dependencies\n",
    "import matplotlib.pyplot as plt\n",
    "import requests\n",
    "import pandas as pd\n",
    "from config import api_key\n",
    "import json\n",
    "import numpy as np"
   ]
  },
  {
   "cell_type": "code",
   "execution_count": null,
   "id": "e623517b",
   "metadata": {},
   "outputs": [],
   "source": [
    "# Check that the CSV was read properly\n",
    "movie_list = pd.read_csv(\"movies.csv\")\n",
    "movie_list.head()"
   ]
  },
  {
   "cell_type": "code",
   "execution_count": null,
   "id": "315740c0",
   "metadata": {},
   "outputs": [],
   "source": [
    "# Add id column to the DataFrame\n",
    "movie_list['id'] = ''\n",
    "movie_list"
   ]
  },
  {
   "cell_type": "code",
   "execution_count": null,
   "id": "defa72ba",
   "metadata": {},
   "outputs": [],
   "source": [
    "# # TMDB API call\n",
    "# movie=movie_list['Title'][100]\n",
    "# base_url=\"https://api.themoviedb.org/3/search/movie?\"\n",
    "# build_url = f'https://api.themoviedb.org/3/search/movie?query={movie}&api_key={api_key}'\n",
    "# response=requests.get(build_url).json()\n",
    "# #print(response.url)\n",
    "# print(json.dumps(response, indent=4, sort_keys=True))"
   ]
  },
  {
   "cell_type": "code",
   "execution_count": null,
   "id": "c89625ea",
   "metadata": {},
   "outputs": [],
   "source": [
    "#response['results'][0]['id']"
   ]
  },
  {
   "cell_type": "code",
   "execution_count": null,
   "id": "62317eec",
   "metadata": {},
   "outputs": [],
   "source": [
    "# Loop through the CSV's Title column to call said movie from the API\n",
    "# Create an empty list to store unfound movies in the TMDB database into\n",
    "unfound_movies = []\n",
    "for index, row in movie_list.iterrows():\n",
    "    movie=movie_list['Title'][index]\n",
    "    base_url=\"https://api.themoviedb.org/3/search/movie?\"\n",
    "    build_url = f'{base_url}query={movie}&api_key={api_key}'\n",
    "    response=requests.get(build_url).json()\n",
    "    #print(response.url)\n",
    "\n",
    "    try:\n",
    "        movie_list.loc[index, \"id\"] = response['results'][0]['id']\n",
    "    except (KeyError, IndexError):\n",
    "        # If no movie name is found, set the movie id as NaN .\n",
    "        movie_list.loc[index, \"id\"] = np.nan\n",
    "        unfound_movies.append(movie_list.loc[index, \"Title\"])"
   ]
  },
  {
   "cell_type": "code",
   "execution_count": null,
   "id": "08e5fee1",
   "metadata": {},
   "outputs": [],
   "source": [
    "# View the movies not found in the database\n",
    "unfound_movies"
   ]
  },
  {
   "cell_type": "code",
   "execution_count": null,
   "id": "198d1272",
   "metadata": {},
   "outputs": [],
   "source": [
    "#Print the DataFrame along with it's shape\n",
    "print(movie_list.shape)\n",
    "movie_list"
   ]
  },
  {
   "cell_type": "code",
   "execution_count": null,
   "id": "a5ba55a4",
   "metadata": {},
   "outputs": [],
   "source": [
    "# Export the City_Data into a csv\n",
    "#movie_list.to_csv(\"movie_list.csv\")"
   ]
  },
  {
   "cell_type": "code",
   "execution_count": null,
   "id": "e9b21453",
   "metadata": {},
   "outputs": [],
   "source": [
    "# movie_list_df = movie_list.loc[movie_list['id']=='NaN']\n",
    "# movie_list_df"
   ]
  },
  {
   "cell_type": "code",
   "execution_count": null,
   "id": "eab58d85",
   "metadata": {},
   "outputs": [],
   "source": [
    "#Drop NaN rows\n",
    "movie_list.dropna(how='any',inplace=True)"
   ]
  },
  {
   "cell_type": "code",
   "execution_count": null,
   "id": "4f94dd27",
   "metadata": {},
   "outputs": [],
   "source": [
    "#Check size of Data Frame\n",
    "movie_list.shape"
   ]
  },
  {
   "cell_type": "code",
   "execution_count": null,
   "id": "4c96550d",
   "metadata": {},
   "outputs": [],
   "source": [
    "#Add columns name to the DataFrame\n",
    "movie_list[['imdb_id',\n",
    "            'budget',\n",
    "            'genres',\n",
    "            'revenue',\n",
    "            'runtime',\n",
    "            'popularity',\n",
    "            'release_date',\n",
    "            'production_countries'\n",
    "            ,'tmdb_rating']] =''\n",
    "movie_list"
   ]
  },
  {
   "cell_type": "code",
   "execution_count": null,
   "id": "b390979f",
   "metadata": {},
   "outputs": [],
   "source": [
    "# # Defining the path for each column value\n",
    "\n",
    "#imdb_id = url_byid_response['imdb_id']\n",
    "#release_date = url_byid_response['release_date']\n",
    "#url_byid_response['revenue']\n",
    "#url_byid_response['runtime']\n",
    "\n",
    "# #extracting genre names from list\n",
    "# for i in range(0,len(url_byid_response['genres'])):\n",
    "#     print(url_byid_response['genres'][i]['name'])\n",
    "\n",
    "# #extracting genre names from list\n",
    "# for i in range(0,len(url_byid_response['production_countries'])):\n",
    "#     print(url_byid_response['production_countries'][i]['name'])\n",
    "\n",
    "#url_byid_response['popularity']\n",
    "#url_byid_response['budget']\n",
    "\n",
    "#url_byid_response['vote_average']\n"
   ]
  },
  {
   "cell_type": "code",
   "execution_count": null,
   "id": "81c25b59",
   "metadata": {},
   "outputs": [],
   "source": [
    "# #API call, search movie by ID\n",
    "# for i in range(0,len(movie_list['Title']))\n",
    "#     movie_id=movie_list['id'][i]\n",
    "#     url_ById = \"https://api.themoviedb.org/3/movie/\"\n",
    "#     build_url_ById=f\"{url_ById}{movie_id}?api_key={api_key}\"\n",
    "#     url_byid_response=requests.get(build_url_ById).json()\n",
    "#     #print(json.dumps(url_byid_response, indent=4, sort_keys=True))"
   ]
  },
  {
   "cell_type": "code",
   "execution_count": null,
   "id": "294156b0",
   "metadata": {
    "scrolled": true
   },
   "outputs": [],
   "source": [
    "# Loop through each movie's title for the API call and store the data we want to analyze into our DataFrame\n",
    "\n",
    "for index, row in movie_list.iterrows():\n",
    "# Create empty lists to store multiple-value columns' data into \n",
    "    genres = []\n",
    "    production_countries = []\n",
    "    try:\n",
    "        movie_id=movie_list['id'][index]\n",
    "        base_url_ById = \"https://api.themoviedb.org/3/movie/\"\n",
    "        build_url_ById=f\"{base_url_ById}{movie_id}?api_key={api_key}\"\n",
    "        url_byid_response=requests.get(build_url_ById).json()\n",
    "        movie_list.loc[index, \"imdb_id\"] = url_byid_response['imdb_id']\n",
    "        movie_list.loc[index, \"release_date\"] = url_byid_response['release_date']\n",
    "        movie_list.loc[index, \"revenue\"] = url_byid_response['revenue']\n",
    "        movie_list.loc[index, \"runtime\"]= url_byid_response['runtime']\n",
    "        movie_list.loc[index, \"Title\"]= url_byid_response['title']\n",
    "\n",
    "        \n",
    "        \n",
    "        #extracting genre names from list\n",
    "        for i in range(0,len(url_byid_response['genres'])):\n",
    "            current_genre = url_byid_response['genres'][i]['name']\n",
    "            genres.append(current_genre)\n",
    "            \n",
    "\n",
    "        #extracting production_countries names from list\n",
    "        for i in range(0,len(url_byid_response['production_countries'])):\n",
    "            current_prod_country = url_byid_response['production_countries'][i]['name']\n",
    "            production_countries.append(current_prod_country)\n",
    "\n",
    "        movie_list.loc[index, \"popularity\"] = url_byid_response['popularity']\n",
    "        movie_list.loc[index, \"budget\"] = url_byid_response['budget']\n",
    "        movie_list.loc[index, \"tmdb_rating\"] = url_byid_response['vote_average']\n",
    "        movie_list.loc[index, \"genres\"] = \", \".join(genres)\n",
    "        movie_list.loc[index, \"production_countries\"] = \", \".join(production_countries)\n",
    "    except (KeyError, IndexError):\n",
    "        # If no movie name is found, set the movie id as NaN .\n",
    "        movie_list.loc[index, \"imdb_id\"] = np.nan\n",
    "        movie_list.loc[index, \"release_date\"] = np.nan\n",
    "        movie_list.loc[index, \"revenue\"] = np.nan\n",
    "        movie_list.loc[index, \"runtime\"]= np.nan\n",
    "        movie_list.loc[index, \"popularity\"] = np.nan\n",
    "        movie_list.loc[index, \"budget\"] = np.nan\n",
    "        movie_list.loc[index, \"tmdb_rating\"] = np.nan\n",
    "        movie_list.loc[index, \"production_countries\"] = np.nan\n",
    "        movie_list.loc[index, \"genres\"] = np.nan\n",
    "\n",
    "        "
   ]
  },
  {
   "cell_type": "code",
   "execution_count": null,
   "id": "286d98db",
   "metadata": {
    "scrolled": true
   },
   "outputs": [],
   "source": [
    "# Test print the DataFrame to see all data is imported properly\n",
    "movie_list.head(50)"
   ]
  },
  {
   "cell_type": "code",
   "execution_count": null,
   "id": "74657d76",
   "metadata": {},
   "outputs": [],
   "source": [
    "# # This will split a cell with multiple values back into a list\n",
    "# newvar = movie_list.loc[9, \"production_countries\"].split(\", \")\n",
    "# newvar[2]"
   ]
  },
  {
   "cell_type": "code",
   "execution_count": null,
   "id": "f7ccfd0a",
   "metadata": {},
   "outputs": [],
   "source": [
    "# Export the City_Data into a csv\n",
    "movie_list.to_csv(\"movie_df.csv\")"
   ]
  }
 ],
 "metadata": {
  "kernelspec": {
   "display_name": "Python 3 (ipykernel)",
   "language": "python",
   "name": "python3"
  },
  "language_info": {
   "codemirror_mode": {
    "name": "ipython",
    "version": 3
   },
   "file_extension": ".py",
   "mimetype": "text/x-python",
   "name": "python",
   "nbconvert_exporter": "python",
   "pygments_lexer": "ipython3",
   "version": "3.10.13"
  }
 },
 "nbformat": 4,
 "nbformat_minor": 5
}
